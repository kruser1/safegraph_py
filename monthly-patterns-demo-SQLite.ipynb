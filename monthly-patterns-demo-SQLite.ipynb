{
 "cells": [
  {
   "cell_type": "markdown",
   "metadata": {},
   "source": [
    "<h1>Preparing SafeGraph monthly-patterns data with Python and sqlite3</h1>\n",
    "\n",
    "This demo shows how to get started with SafeGraph's social-distancing data using sqlite3, a Python package for working with SQLite. This is just one of many possible ways to work with such a large data set. This approach requires a little extra time up front to put the compressed CSV files into SQLite files, but saves time later by making the data faster to filter. Be aware, this approach also takes up more storage.\n",
    "\n",
    "Data documentation and other resources: https://docs.google.com/spreadsheets/d/1UNWvPzkUTTlXBZ6M6iGhM_7sr8h-MxsZdE7iOszkAmk/edit#gid=0\n",
    "\n",
    "<h2>Steps</h2>\n",
    "<ol>\n",
    "<li><b>Download Data</b> - Before starting with anything in Python, you first need to download the data from S3. See <a href = \"https://safegraphcovid19.slack.com/archives/C0109NPA543/p1585177965017700\">this Slack post</a> for details. This demo only includes the <b>monthly-patterns</b> data. There is a similar demo for the <b>social-distancing</b> data.</li>\n",
    "\n",
    "<li><b>Organize Directories</b> - I recommend placing this file in a folder called 'social-distancing-sqlite-files' (or something similar) within a your SafeGraph directory. For example, mine is <code>C:/Users/Kruse/Desktop/SafeGraph/monthly-patterns-sqlite-files/this_file.ipynb</code>. This script will create a bunch of SQLite files in the same directory (one for each month), so it's nice to have them in a different folder.</li>\n",
    "\n",
    "<li><b>Setup</b> - Run the import statements and define the functions as seen below. You may need to install packages.</li>\n",
    "\n",
    "<li><b>Create SQLite Files</b> - Be sure to update the file path according to your setup before running the code. This step will take time because the script goes through each compressed CSV file and stores the data in an SQLite file, but it saves time later when querying the data.</li>\n",
    "\n",
    "<li><b>Query Data</b> - After the SQLite files have been created, you are ready to start querying the data! See below for instructions.</li>\n",
    "</ol>\n"
   ]
  },
  {
   "cell_type": "markdown",
   "metadata": {},
   "source": [
    "<h3>Setup</h3>"
   ]
  },
  {
   "cell_type": "code",
   "execution_count": 24,
   "metadata": {},
   "outputs": [],
   "source": [
    "import pandas as pd\n",
    "import sqlite3\n",
    "import os\n",
    "from tqdm import tqdm\n",
    "import glob\n",
    "import matplotlib.pyplot as plt\n",
    "import numpy as np\n",
    "\n",
    "pd.set_option('display.max_rows', 500)\n",
    "pd.set_option('display.max_columns', 500)\n",
    "pd.set_option('display.width', 1000)"
   ]
  },
  {
   "cell_type": "code",
   "execution_count": 14,
   "metadata": {},
   "outputs": [],
   "source": [
    "def getAllCompressedCSVFiles(f_path):\n",
    "    subdirs = [x[0] for x in os.walk(f_path)]\n",
    "    all_f = {}\n",
    "    for p in subdirs:\n",
    "        fs = glob.glob(os.path.join(p + \"\\\\\",\"*.csv.gz\"))\n",
    "        if len(fs) > 0:\n",
    "            all_f[p[-7:].replace('\\\\','-')] = fs\n",
    "    return(all_f)\n",
    "\n",
    "# assumes SQLite DB does not already exist of this name, otherwise it will just append to existing, leading to duplicates\n",
    "def makeNewSQLite(name, files):\n",
    "    conn = sqlite3.connect(name + '.sqlite')\n",
    "    files.reverse()\n",
    "    for f_path in files:\n",
    "        print(f_path)\n",
    "        for c in tqdm(pd.read_csv(f_path, chunksize=100000)):\n",
    "              c.to_sql(name, conn, if_exists='append')\n",
    "    print(name+'.sqlite done')\n",
    "    conn.close()\n",
    "\n",
    "#makes monthly SQLite files for specified months in specified folder\n",
    "def makeMonthlySQLiteFiles(f_path, months=['01','02','03','04','05','06','07','08','09','10','11','12']):\n",
    "    files = getAllCompressedCSVFiles(f_path)\n",
    "    keys = list(files.keys())\n",
    "    keys.reverse()\n",
    "    for k in keys:\n",
    "        if k[5:7] in months:\n",
    "            print(k)\n",
    "            makeNewSQLite(k,files[k])\n",
    "        \n",
    "def queryToDF(select_columns, conditions, months):\n",
    "    c = 0\n",
    "    for m in tqdm(months):\n",
    "        conn = sqlite3.connect(m + '.sqlite')\n",
    "        select_string = ''\n",
    "        for x in range(len(select_columns)):\n",
    "            select_string += '\"' + select_columns[x] + '\"'\n",
    "            if x != len(select_columns)-1:\n",
    "                select_string += ','\n",
    "        q = 'SELECT ' + select_string + ' FROM \"' + m + '\" ' + conditions\n",
    "        print(\"QUERY:\", q)\n",
    "        temp_df = pd.read_sql_query(q, conn)\n",
    "        if c == 0:\n",
    "            df = temp_df\n",
    "        else:\n",
    "            df = pd.concat([df, temp_df], ignore_index=True)\n",
    "        c += 1\n",
    "        conn.close()\n",
    "    return(df)\n",
    "\n",
    "#add some columns to your dataframe that make filtering and visualizations easier\n",
    "def addColumns(df):\n",
    "    df['month'] = [str(x)[0:7] for x in df['date_range_start']] #create month column\n",
    "    return(df)"
   ]
  },
  {
   "cell_type": "markdown",
   "metadata": {},
   "source": [
    "<h3>Create SQLite Files</h3>\n",
    "\n",
    "<b>TODO:</b> \n",
    "<ol>\n",
    "    <li>Update <code>f_path</code> argument to match your setup and desired year</li>\n",
    "    <li>Update <code>months</code> argument to your desired months (default is all months)\n",
    "    <ul><li>As you can see, <code>months</code> is set to include only March and April - adding <code>'01'</code> to the list will include January, adding <code>'02'</code> will include February, etc</li></ul>\n",
    "    </li>\n",
    "</ol>\n",
    "The file path ending in <code>social-distancing/<b>2020</b></code> will make SQLite files for all months in 2020. Switch to <code>social-distancing/<b>2019</b></code> for 2019.\n",
    "\n",
    "<b>This step will take some time, so if you only want to work with January 2020 - March 2020 data, you should set the parameters accordingly.</b> It took me about 12 minutes per month on my not-very-fancy laptop.\n",
    "\n",
    "<b>Important:</b> These SQLite files are stored in the same directory as this script. If you run this function and one or more of the SQLite files already exists, Python will add onto the existing SQLite files. This means the data will be duplicated. If needed, you can delete SQLite files and run this function to remake them. You should only have to run this function one time for each month of data you want to work with to avoid duplicating data."
   ]
  },
  {
   "cell_type": "code",
   "execution_count": 16,
   "metadata": {},
   "outputs": [
    {
     "name": "stdout",
     "output_type": "stream",
     "text": [
      "2020-04\n",
      "C:\\Users\\Kruse\\Desktop\\SafeGraph\\data\\monthly-patterns\\patterns_backfill\\2020\\04\\patterns-part4.csv.gz\n"
     ]
    },
    {
     "name": "stderr",
     "output_type": "stream",
     "text": [
      "10it [01:13,  7.33s/it]\n"
     ]
    },
    {
     "name": "stdout",
     "output_type": "stream",
     "text": [
      "C:\\Users\\Kruse\\Desktop\\SafeGraph\\data\\monthly-patterns\\patterns_backfill\\2020\\04\\patterns-part3.csv.gz\n"
     ]
    },
    {
     "name": "stderr",
     "output_type": "stream",
     "text": [
      "10it [01:21,  8.18s/it]\n"
     ]
    },
    {
     "name": "stdout",
     "output_type": "stream",
     "text": [
      "C:\\Users\\Kruse\\Desktop\\SafeGraph\\data\\monthly-patterns\\patterns_backfill\\2020\\04\\patterns-part2.csv.gz\n"
     ]
    },
    {
     "name": "stderr",
     "output_type": "stream",
     "text": [
      "10it [01:39,  9.94s/it]\n"
     ]
    },
    {
     "name": "stdout",
     "output_type": "stream",
     "text": [
      "C:\\Users\\Kruse\\Desktop\\SafeGraph\\data\\monthly-patterns\\patterns_backfill\\2020\\04\\patterns-part1.csv.gz\n"
     ]
    },
    {
     "name": "stderr",
     "output_type": "stream",
     "text": [
      "11it [02:14, 12.24s/it]\n"
     ]
    },
    {
     "name": "stdout",
     "output_type": "stream",
     "text": [
      "2020-04.sqlite done\n",
      "2020-03\n",
      "C:\\Users\\Kruse\\Desktop\\SafeGraph\\data\\monthly-patterns\\patterns_backfill\\2020\\03\\patterns-part4.csv.gz\n"
     ]
    },
    {
     "name": "stderr",
     "output_type": "stream",
     "text": [
      "11it [01:33,  8.49s/it]\n"
     ]
    },
    {
     "name": "stdout",
     "output_type": "stream",
     "text": [
      "C:\\Users\\Kruse\\Desktop\\SafeGraph\\data\\monthly-patterns\\patterns_backfill\\2020\\03\\patterns-part3.csv.gz\n"
     ]
    },
    {
     "name": "stderr",
     "output_type": "stream",
     "text": [
      "11it [01:38,  8.99s/it]\n"
     ]
    },
    {
     "name": "stdout",
     "output_type": "stream",
     "text": [
      "C:\\Users\\Kruse\\Desktop\\SafeGraph\\data\\monthly-patterns\\patterns_backfill\\2020\\03\\patterns-part2.csv.gz\n"
     ]
    },
    {
     "name": "stderr",
     "output_type": "stream",
     "text": [
      "11it [01:56, 10.60s/it]\n"
     ]
    },
    {
     "name": "stdout",
     "output_type": "stream",
     "text": [
      "C:\\Users\\Kruse\\Desktop\\SafeGraph\\data\\monthly-patterns\\patterns_backfill\\2020\\03\\patterns-part1.csv.gz\n"
     ]
    },
    {
     "name": "stderr",
     "output_type": "stream",
     "text": [
      "11it [01:58, 10.78s/it]\n"
     ]
    },
    {
     "name": "stdout",
     "output_type": "stream",
     "text": [
      "2020-03.sqlite done\n"
     ]
    }
   ],
   "source": [
    "makeMonthlySQLiteFiles(\"C:\\\\Users\\\\Kruse\\\\Desktop\\\\SafeGraph\\\\data\\\\monthly-patterns\\\\patterns_backfill\\\\2020\", months = ['03','04'])"
   ]
  },
  {
   "cell_type": "markdown",
   "metadata": {},
   "source": [
    "<h3>Query Data</h3>\n",
    "<ol>\n",
    "<li>Set <code>select_columns</code> variable to be a list of the columns you want to return. See documentation for columns list and details <a href ='https://docs.safegraph.com/docs/places-schema#section-patterns'>here</a>.</li>\n",
    "\n",
    "<li>Set the conditions for your query. This example filters results to those from Mankato, MN.</li>\n",
    "\n",
    "<li>Set the months variable to be a list of the months you want to include in your query. This example only includes results from March and April of 2020.\n",
    "    <ul><li>Remember: You can only query months that you made SQLite files for in the previous step.</li></ul>\n",
    "</li>\n",
    "\n",
    "<li>The results of your query are stored as a dataframe in the df variable.</li>\n",
    "</ol>\n",
    "<b>Tip:</b> Filter to only take what you need. Larger queries will take longer to execute (this one took just about 10.5 minutes on my not-very-fancy laptop). Additionally, larger data frames will take longer to analyze."
   ]
  },
  {
   "cell_type": "code",
   "execution_count": 17,
   "metadata": {
    "scrolled": false
   },
   "outputs": [
    {
     "name": "stderr",
     "output_type": "stream",
     "text": [
      "\r",
      "  0%|                                                                                            | 0/2 [00:00<?, ?it/s]"
     ]
    },
    {
     "name": "stdout",
     "output_type": "stream",
     "text": [
      "QUERY: SELECT \"location_name\",\"street_address\",\"city\",\"region\",\"postal_code\",\"date_range_start\",\"date_range_end\",\"median_dwell\" FROM \"2020-03\" WHERE \"city\"=\"Mankato\" AND \"region\"=\"MN\"\n"
     ]
    },
    {
     "name": "stderr",
     "output_type": "stream",
     "text": [
      "\r",
      " 50%|█████████████████████████████████████████▌                                         | 1/2 [04:23<04:23, 263.40s/it]"
     ]
    },
    {
     "name": "stdout",
     "output_type": "stream",
     "text": [
      "QUERY: SELECT \"location_name\",\"street_address\",\"city\",\"region\",\"postal_code\",\"date_range_start\",\"date_range_end\",\"median_dwell\" FROM \"2020-04\" WHERE \"city\"=\"Mankato\" AND \"region\"=\"MN\"\n"
     ]
    },
    {
     "name": "stderr",
     "output_type": "stream",
     "text": [
      "100%|███████████████████████████████████████████████████████████████████████████████████| 2/2 [06:59<00:00, 209.53s/it]\n"
     ]
    },
    {
     "data": {
      "text/html": [
       "<div>\n",
       "<style scoped>\n",
       "    .dataframe tbody tr th:only-of-type {\n",
       "        vertical-align: middle;\n",
       "    }\n",
       "\n",
       "    .dataframe tbody tr th {\n",
       "        vertical-align: top;\n",
       "    }\n",
       "\n",
       "    .dataframe thead th {\n",
       "        text-align: right;\n",
       "    }\n",
       "</style>\n",
       "<table border=\"1\" class=\"dataframe\">\n",
       "  <thead>\n",
       "    <tr style=\"text-align: right;\">\n",
       "      <th></th>\n",
       "      <th>location_name</th>\n",
       "      <th>street_address</th>\n",
       "      <th>city</th>\n",
       "      <th>region</th>\n",
       "      <th>postal_code</th>\n",
       "      <th>date_range_start</th>\n",
       "      <th>date_range_end</th>\n",
       "      <th>median_dwell</th>\n",
       "      <th>month</th>\n",
       "    </tr>\n",
       "  </thead>\n",
       "  <tbody>\n",
       "    <tr>\n",
       "      <td>0</td>\n",
       "      <td>Social Security</td>\n",
       "      <td>12 Civic Cntr Plaza Ste 1550 Mankato Pl</td>\n",
       "      <td>Mankato</td>\n",
       "      <td>MN</td>\n",
       "      <td>56001</td>\n",
       "      <td>2020-03-01T00:00:00-06:00</td>\n",
       "      <td>2020-04-01T00:00:00-05:00</td>\n",
       "      <td>32.0</td>\n",
       "      <td>2020-03</td>\n",
       "    </tr>\n",
       "    <tr>\n",
       "      <td>1</td>\n",
       "      <td>Weight Watchers</td>\n",
       "      <td>421 E Hickory St</td>\n",
       "      <td>Mankato</td>\n",
       "      <td>MN</td>\n",
       "      <td>56001</td>\n",
       "      <td>2020-03-01T00:00:00-06:00</td>\n",
       "      <td>2020-04-01T00:00:00-05:00</td>\n",
       "      <td>61.5</td>\n",
       "      <td>2020-03</td>\n",
       "    </tr>\n",
       "    <tr>\n",
       "      <td>2</td>\n",
       "      <td>Shogun Sushi And Hibachi</td>\n",
       "      <td>1901 Madison Ave Ste 315</td>\n",
       "      <td>Mankato</td>\n",
       "      <td>MN</td>\n",
       "      <td>56001</td>\n",
       "      <td>2020-03-01T00:00:00-06:00</td>\n",
       "      <td>2020-04-01T00:00:00-05:00</td>\n",
       "      <td>32.0</td>\n",
       "      <td>2020-03</td>\n",
       "    </tr>\n",
       "    <tr>\n",
       "      <td>3</td>\n",
       "      <td>The Loose Moose Saloon &amp; Conference Center</td>\n",
       "      <td>119 S Front St</td>\n",
       "      <td>Mankato</td>\n",
       "      <td>MN</td>\n",
       "      <td>56001</td>\n",
       "      <td>2020-03-01T00:00:00-06:00</td>\n",
       "      <td>2020-04-01T00:00:00-05:00</td>\n",
       "      <td>77.0</td>\n",
       "      <td>2020-03</td>\n",
       "    </tr>\n",
       "    <tr>\n",
       "      <td>4</td>\n",
       "      <td>Leep</td>\n",
       "      <td>929 N 4th St</td>\n",
       "      <td>Mankato</td>\n",
       "      <td>MN</td>\n",
       "      <td>56001</td>\n",
       "      <td>2020-03-01T00:00:00-06:00</td>\n",
       "      <td>2020-04-01T00:00:00-05:00</td>\n",
       "      <td>39.0</td>\n",
       "      <td>2020-03</td>\n",
       "    </tr>\n",
       "    <tr>\n",
       "      <td>...</td>\n",
       "      <td>...</td>\n",
       "      <td>...</td>\n",
       "      <td>...</td>\n",
       "      <td>...</td>\n",
       "      <td>...</td>\n",
       "      <td>...</td>\n",
       "      <td>...</td>\n",
       "      <td>...</td>\n",
       "      <td>...</td>\n",
       "    </tr>\n",
       "    <tr>\n",
       "      <td>1651</td>\n",
       "      <td>Tq Nails</td>\n",
       "      <td>1901 Madison Ave</td>\n",
       "      <td>Mankato</td>\n",
       "      <td>MN</td>\n",
       "      <td>56001</td>\n",
       "      <td>2020-04-01T00:00:00-05:00</td>\n",
       "      <td>2020-05-01T00:00:00-05:00</td>\n",
       "      <td>20.0</td>\n",
       "      <td>2020-04</td>\n",
       "    </tr>\n",
       "    <tr>\n",
       "      <td>1652</td>\n",
       "      <td>Ferrellgas</td>\n",
       "      <td>21665 594th Ave</td>\n",
       "      <td>Mankato</td>\n",
       "      <td>MN</td>\n",
       "      <td>56001</td>\n",
       "      <td>2020-04-01T00:00:00-05:00</td>\n",
       "      <td>2020-05-01T00:00:00-05:00</td>\n",
       "      <td>22.0</td>\n",
       "      <td>2020-04</td>\n",
       "    </tr>\n",
       "    <tr>\n",
       "      <td>1653</td>\n",
       "      <td>Family Dollar Stores</td>\n",
       "      <td>818 S Front St</td>\n",
       "      <td>Mankato</td>\n",
       "      <td>MN</td>\n",
       "      <td>56001</td>\n",
       "      <td>2020-04-01T00:00:00-05:00</td>\n",
       "      <td>2020-05-01T00:00:00-05:00</td>\n",
       "      <td>12.0</td>\n",
       "      <td>2020-04</td>\n",
       "    </tr>\n",
       "    <tr>\n",
       "      <td>1654</td>\n",
       "      <td>Perkins Restaurant &amp; Bakery</td>\n",
       "      <td>1790 Madison Ave</td>\n",
       "      <td>Mankato</td>\n",
       "      <td>MN</td>\n",
       "      <td>56001</td>\n",
       "      <td>2020-04-01T00:00:00-05:00</td>\n",
       "      <td>2020-05-01T00:00:00-05:00</td>\n",
       "      <td>9.5</td>\n",
       "      <td>2020-04</td>\n",
       "    </tr>\n",
       "    <tr>\n",
       "      <td>1655</td>\n",
       "      <td>Einstein Bros Bagel</td>\n",
       "      <td>1580 Madison Ave</td>\n",
       "      <td>Mankato</td>\n",
       "      <td>MN</td>\n",
       "      <td>56001</td>\n",
       "      <td>2020-04-01T00:00:00-05:00</td>\n",
       "      <td>2020-05-01T00:00:00-05:00</td>\n",
       "      <td>7.0</td>\n",
       "      <td>2020-04</td>\n",
       "    </tr>\n",
       "  </tbody>\n",
       "</table>\n",
       "<p>1656 rows × 9 columns</p>\n",
       "</div>"
      ],
      "text/plain": [
       "                                   location_name                           street_address     city region  postal_code           date_range_start             date_range_end  median_dwell    month\n",
       "0                                Social Security  12 Civic Cntr Plaza Ste 1550 Mankato Pl  Mankato     MN        56001  2020-03-01T00:00:00-06:00  2020-04-01T00:00:00-05:00          32.0  2020-03\n",
       "1                                Weight Watchers                         421 E Hickory St  Mankato     MN        56001  2020-03-01T00:00:00-06:00  2020-04-01T00:00:00-05:00          61.5  2020-03\n",
       "2                       Shogun Sushi And Hibachi                 1901 Madison Ave Ste 315  Mankato     MN        56001  2020-03-01T00:00:00-06:00  2020-04-01T00:00:00-05:00          32.0  2020-03\n",
       "3     The Loose Moose Saloon & Conference Center                           119 S Front St  Mankato     MN        56001  2020-03-01T00:00:00-06:00  2020-04-01T00:00:00-05:00          77.0  2020-03\n",
       "4                                           Leep                             929 N 4th St  Mankato     MN        56001  2020-03-01T00:00:00-06:00  2020-04-01T00:00:00-05:00          39.0  2020-03\n",
       "...                                          ...                                      ...      ...    ...          ...                        ...                        ...           ...      ...\n",
       "1651                                    Tq Nails                         1901 Madison Ave  Mankato     MN        56001  2020-04-01T00:00:00-05:00  2020-05-01T00:00:00-05:00          20.0  2020-04\n",
       "1652                                  Ferrellgas                          21665 594th Ave  Mankato     MN        56001  2020-04-01T00:00:00-05:00  2020-05-01T00:00:00-05:00          22.0  2020-04\n",
       "1653                        Family Dollar Stores                           818 S Front St  Mankato     MN        56001  2020-04-01T00:00:00-05:00  2020-05-01T00:00:00-05:00          12.0  2020-04\n",
       "1654                 Perkins Restaurant & Bakery                         1790 Madison Ave  Mankato     MN        56001  2020-04-01T00:00:00-05:00  2020-05-01T00:00:00-05:00           9.5  2020-04\n",
       "1655                         Einstein Bros Bagel                         1580 Madison Ave  Mankato     MN        56001  2020-04-01T00:00:00-05:00  2020-05-01T00:00:00-05:00           7.0  2020-04\n",
       "\n",
       "[1656 rows x 9 columns]"
      ]
     },
     "execution_count": 17,
     "metadata": {},
     "output_type": "execute_result"
    }
   ],
   "source": [
    "select_columns = ['location_name', 'street_address', 'city', 'region', 'postal_code', 'date_range_start', 'date_range_end', 'median_dwell']\n",
    "conditions = 'WHERE \"city\"=\"Mankato\" AND \"region\"=\"MN\"'\n",
    "months = ['2020-03','2020-04']\n",
    "df = queryToDF(select_columns, conditions, months)\n",
    "df = addColumns(df)\n",
    "df"
   ]
  },
  {
   "cell_type": "markdown",
   "metadata": {},
   "source": [
    "<h3>Example</h3>\n",
    "The following code blocks demonstrate a very simple use case."
   ]
  },
  {
   "cell_type": "code",
   "execution_count": 19,
   "metadata": {
    "scrolled": true
   },
   "outputs": [
    {
     "data": {
      "text/html": [
       "<div>\n",
       "<style scoped>\n",
       "    .dataframe tbody tr th:only-of-type {\n",
       "        vertical-align: middle;\n",
       "    }\n",
       "\n",
       "    .dataframe tbody tr th {\n",
       "        vertical-align: top;\n",
       "    }\n",
       "\n",
       "    .dataframe thead th {\n",
       "        text-align: right;\n",
       "    }\n",
       "</style>\n",
       "<table border=\"1\" class=\"dataframe\">\n",
       "  <thead>\n",
       "    <tr style=\"text-align: right;\">\n",
       "      <th></th>\n",
       "      <th>location_name</th>\n",
       "      <th>street_address</th>\n",
       "      <th>city</th>\n",
       "      <th>region</th>\n",
       "      <th>postal_code</th>\n",
       "      <th>date_range_start</th>\n",
       "      <th>date_range_end</th>\n",
       "      <th>median_dwell</th>\n",
       "      <th>month</th>\n",
       "    </tr>\n",
       "  </thead>\n",
       "  <tbody>\n",
       "    <tr>\n",
       "      <td>148</td>\n",
       "      <td>Starbucks</td>\n",
       "      <td>1872 Madison Ave</td>\n",
       "      <td>Mankato</td>\n",
       "      <td>MN</td>\n",
       "      <td>56001</td>\n",
       "      <td>2020-03-01T00:00:00-06:00</td>\n",
       "      <td>2020-04-01T00:00:00-05:00</td>\n",
       "      <td>8.0</td>\n",
       "      <td>2020-03</td>\n",
       "    </tr>\n",
       "    <tr>\n",
       "      <td>193</td>\n",
       "      <td>Caribou Coffee</td>\n",
       "      <td>1580 Madison Ave</td>\n",
       "      <td>Mankato</td>\n",
       "      <td>MN</td>\n",
       "      <td>56001</td>\n",
       "      <td>2020-03-01T00:00:00-06:00</td>\n",
       "      <td>2020-04-01T00:00:00-05:00</td>\n",
       "      <td>9.0</td>\n",
       "      <td>2020-03</td>\n",
       "    </tr>\n",
       "    <tr>\n",
       "      <td>211</td>\n",
       "      <td>Dunkin'</td>\n",
       "      <td>1701 Madison Ave</td>\n",
       "      <td>Mankato</td>\n",
       "      <td>MN</td>\n",
       "      <td>56001</td>\n",
       "      <td>2020-03-01T00:00:00-06:00</td>\n",
       "      <td>2020-04-01T00:00:00-05:00</td>\n",
       "      <td>6.5</td>\n",
       "      <td>2020-03</td>\n",
       "    </tr>\n",
       "    <tr>\n",
       "      <td>262</td>\n",
       "      <td>Caribou Coffee</td>\n",
       "      <td>1800 Madison Ave</td>\n",
       "      <td>Mankato</td>\n",
       "      <td>MN</td>\n",
       "      <td>56001</td>\n",
       "      <td>2020-03-01T00:00:00-06:00</td>\n",
       "      <td>2020-04-01T00:00:00-05:00</td>\n",
       "      <td>9.0</td>\n",
       "      <td>2020-03</td>\n",
       "    </tr>\n",
       "    <tr>\n",
       "      <td>409</td>\n",
       "      <td>Caribou Coffee</td>\n",
       "      <td>1901 Madison Ave</td>\n",
       "      <td>Mankato</td>\n",
       "      <td>MN</td>\n",
       "      <td>56001</td>\n",
       "      <td>2020-03-01T00:00:00-06:00</td>\n",
       "      <td>2020-04-01T00:00:00-05:00</td>\n",
       "      <td>20.5</td>\n",
       "      <td>2020-03</td>\n",
       "    </tr>\n",
       "    <tr>\n",
       "      <td>705</td>\n",
       "      <td>Caribou Coffee</td>\n",
       "      <td>1680 Warren St</td>\n",
       "      <td>Mankato</td>\n",
       "      <td>MN</td>\n",
       "      <td>56001</td>\n",
       "      <td>2020-03-01T00:00:00-06:00</td>\n",
       "      <td>2020-04-01T00:00:00-05:00</td>\n",
       "      <td>8.0</td>\n",
       "      <td>2020-03</td>\n",
       "    </tr>\n",
       "    <tr>\n",
       "      <td>989</td>\n",
       "      <td>Caribou Coffee</td>\n",
       "      <td>1580 Madison Ave</td>\n",
       "      <td>Mankato</td>\n",
       "      <td>MN</td>\n",
       "      <td>56001</td>\n",
       "      <td>2020-04-01T00:00:00-05:00</td>\n",
       "      <td>2020-05-01T00:00:00-05:00</td>\n",
       "      <td>7.0</td>\n",
       "      <td>2020-04</td>\n",
       "    </tr>\n",
       "    <tr>\n",
       "      <td>1029</td>\n",
       "      <td>Caribou Coffee</td>\n",
       "      <td>1800 Madison Ave</td>\n",
       "      <td>Mankato</td>\n",
       "      <td>MN</td>\n",
       "      <td>56001</td>\n",
       "      <td>2020-04-01T00:00:00-05:00</td>\n",
       "      <td>2020-05-01T00:00:00-05:00</td>\n",
       "      <td>26.0</td>\n",
       "      <td>2020-04</td>\n",
       "    </tr>\n",
       "    <tr>\n",
       "      <td>1222</td>\n",
       "      <td>Caribou Coffee</td>\n",
       "      <td>1901 Madison Ave</td>\n",
       "      <td>Mankato</td>\n",
       "      <td>MN</td>\n",
       "      <td>56001</td>\n",
       "      <td>2020-04-01T00:00:00-05:00</td>\n",
       "      <td>2020-05-01T00:00:00-05:00</td>\n",
       "      <td>13.0</td>\n",
       "      <td>2020-04</td>\n",
       "    </tr>\n",
       "    <tr>\n",
       "      <td>1231</td>\n",
       "      <td>Dunkin'</td>\n",
       "      <td>1701 Madison Ave</td>\n",
       "      <td>Mankato</td>\n",
       "      <td>MN</td>\n",
       "      <td>56001</td>\n",
       "      <td>2020-04-01T00:00:00-05:00</td>\n",
       "      <td>2020-05-01T00:00:00-05:00</td>\n",
       "      <td>6.0</td>\n",
       "      <td>2020-04</td>\n",
       "    </tr>\n",
       "    <tr>\n",
       "      <td>1362</td>\n",
       "      <td>Caribou Coffee</td>\n",
       "      <td>1680 Warren St</td>\n",
       "      <td>Mankato</td>\n",
       "      <td>MN</td>\n",
       "      <td>56001</td>\n",
       "      <td>2020-04-01T00:00:00-05:00</td>\n",
       "      <td>2020-05-01T00:00:00-05:00</td>\n",
       "      <td>6.0</td>\n",
       "      <td>2020-04</td>\n",
       "    </tr>\n",
       "    <tr>\n",
       "      <td>1382</td>\n",
       "      <td>Starbucks</td>\n",
       "      <td>1872 Madison Ave</td>\n",
       "      <td>Mankato</td>\n",
       "      <td>MN</td>\n",
       "      <td>56001</td>\n",
       "      <td>2020-04-01T00:00:00-05:00</td>\n",
       "      <td>2020-05-01T00:00:00-05:00</td>\n",
       "      <td>10.0</td>\n",
       "      <td>2020-04</td>\n",
       "    </tr>\n",
       "  </tbody>\n",
       "</table>\n",
       "</div>"
      ],
      "text/plain": [
       "       location_name    street_address     city region  postal_code           date_range_start             date_range_end  median_dwell    month\n",
       "148        Starbucks  1872 Madison Ave  Mankato     MN        56001  2020-03-01T00:00:00-06:00  2020-04-01T00:00:00-05:00           8.0  2020-03\n",
       "193   Caribou Coffee  1580 Madison Ave  Mankato     MN        56001  2020-03-01T00:00:00-06:00  2020-04-01T00:00:00-05:00           9.0  2020-03\n",
       "211          Dunkin'  1701 Madison Ave  Mankato     MN        56001  2020-03-01T00:00:00-06:00  2020-04-01T00:00:00-05:00           6.5  2020-03\n",
       "262   Caribou Coffee  1800 Madison Ave  Mankato     MN        56001  2020-03-01T00:00:00-06:00  2020-04-01T00:00:00-05:00           9.0  2020-03\n",
       "409   Caribou Coffee  1901 Madison Ave  Mankato     MN        56001  2020-03-01T00:00:00-06:00  2020-04-01T00:00:00-05:00          20.5  2020-03\n",
       "705   Caribou Coffee    1680 Warren St  Mankato     MN        56001  2020-03-01T00:00:00-06:00  2020-04-01T00:00:00-05:00           8.0  2020-03\n",
       "989   Caribou Coffee  1580 Madison Ave  Mankato     MN        56001  2020-04-01T00:00:00-05:00  2020-05-01T00:00:00-05:00           7.0  2020-04\n",
       "1029  Caribou Coffee  1800 Madison Ave  Mankato     MN        56001  2020-04-01T00:00:00-05:00  2020-05-01T00:00:00-05:00          26.0  2020-04\n",
       "1222  Caribou Coffee  1901 Madison Ave  Mankato     MN        56001  2020-04-01T00:00:00-05:00  2020-05-01T00:00:00-05:00          13.0  2020-04\n",
       "1231         Dunkin'  1701 Madison Ave  Mankato     MN        56001  2020-04-01T00:00:00-05:00  2020-05-01T00:00:00-05:00           6.0  2020-04\n",
       "1362  Caribou Coffee    1680 Warren St  Mankato     MN        56001  2020-04-01T00:00:00-05:00  2020-05-01T00:00:00-05:00           6.0  2020-04\n",
       "1382       Starbucks  1872 Madison Ave  Mankato     MN        56001  2020-04-01T00:00:00-05:00  2020-05-01T00:00:00-05:00          10.0  2020-04"
      ]
     },
     "execution_count": 19,
     "metadata": {},
     "output_type": "execute_result"
    }
   ],
   "source": [
    "#view the resulting pandas dataframe's chain coffee shops\n",
    "tdf = df[df.location_name.isin(['Starbucks','Caribou Coffee','Dunkin\\''])]\n",
    "tdf"
   ]
  },
  {
   "cell_type": "code",
   "execution_count": 33,
   "metadata": {},
   "outputs": [
    {
     "data": {
      "text/plain": [
       "<matplotlib.legend.Legend at 0x1ba4e5ffd08>"
      ]
     },
     "execution_count": 33,
     "metadata": {},
     "output_type": "execute_result"
    },
    {
     "data": {
      "image/png": "[encoded data removed]",
      "text/plain": [
       "<Figure size 432x288 with 1 Axes>"
      ]
     },
     "metadata": {
      "needs_background": "light"
     },
     "output_type": "display_data"
    }
   ],
   "source": [
    "for x in list(tdf.location_name.unique()):\n",
    "    plt.plot(tdf[tdf['location_name']==x].groupby('month')['median_dwell'].mean(), label=x)\n",
    "    \n",
    "plt.xlabel(\"Month\")\n",
    "plt.ylabel(\"Median Dwell Time\")\n",
    "plt.title(\"Mankato, MN Coffee Shop Dwell Time\")\n",
    "plt.legend()"
   ]
  },
  {
   "cell_type": "markdown",
   "metadata": {},
   "source": [
    "<h3>Practice</h3>\n",
    "\n",
    "Adjust the code to see how Mankato's chain coffee shops' median dwell time and number of visitors has (or has not) changed from January 2020 to April 2020."
   ]
  }
 ],
 "metadata": {
  "kernelspec": {
   "display_name": "Python 3",
   "language": "python",
   "name": "python3"
  },
  "language_info": {
   "codemirror_mode": {
    "name": "ipython",
    "version": 3
   },
   "file_extension": ".py",
   "mimetype": "text/x-python",
   "name": "python",
   "nbconvert_exporter": "python",
   "pygments_lexer": "ipython3",
   "version": "3.7.4"
  }
 },
 "nbformat": 4,
 "nbformat_minor": 2
}
